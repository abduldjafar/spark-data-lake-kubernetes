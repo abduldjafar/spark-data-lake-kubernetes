{
 "cells": [
  {
   "cell_type": "code",
   "execution_count": 102,
   "id": "e8779ff3",
   "metadata": {},
   "outputs": [],
   "source": [
    "from delta import configure_spark_with_delta_pip\n",
    "import pyspark\n",
    "from configparser import ConfigParser\n",
    "from os import environ\n",
    "from pyspark.sql.types import StructType,StructField,BooleanType,MapType,IntegerType\n",
    "from pyspark.sql.functions import col,from_json,lit,round\n",
    "import json"
   ]
  },
  {
   "cell_type": "code",
   "execution_count": 2,
   "id": "44e16ae0",
   "metadata": {},
   "outputs": [
    {
     "data": {
      "text/plain": [
       "['config/python/config.ini']"
      ]
     },
     "execution_count": 2,
     "metadata": {},
     "output_type": "execute_result"
    }
   ],
   "source": [
    "# initialize config\n",
    "config = ConfigParser()\n",
    "config.read('config/python/config.ini')\n"
   ]
  },
  {
   "cell_type": "code",
   "execution_count": 3,
   "id": "a62b1855",
   "metadata": {},
   "outputs": [],
   "source": [
    "# get value from config file\n",
    "gcs_jars = config[\"spark\"][\"gcs-connector\"]\n",
    "delta_contrib_jars = config[\"spark\"][\"delta-contrib\"]\n",
    "apps_name = config[\"spark\"][\"apps-name\"]\n",
    "data_sources = config[\"datasource\"][\"csv1\"]\n",
    "json_data_sources = config[\"datasource\"][\"json1\"]\n",
    "gcs_data_sources = config[\"bucket\"][\"gcs-data-source\"]\n",
    "gcs_data_sources_ids = config[\"bucket\"][\"gcs-data-source-id\"]\n",
    "gcs_data_destination = config[\"bucket\"][\"gcs-data-destination\"]"
   ]
  },
  {
   "cell_type": "code",
   "execution_count": 4,
   "id": "50f4bd30",
   "metadata": {},
   "outputs": [],
   "source": [
    "# set up environment variables\n",
    "environ[\"GOOGLE_APPLICATION_CREDENTIALS\"] = config[\"gcpconfig\"][\"json\"]"
   ]
  },
  {
   "cell_type": "code",
   "execution_count": 5,
   "id": "92cb0367",
   "metadata": {},
   "outputs": [
    {
     "name": "stderr",
     "output_type": "stream",
     "text": [
      "WARNING: An illegal reflective access operation has occurred\n",
      "WARNING: Illegal reflective access by org.apache.spark.unsafe.Platform (file:/Users/kotekaman/Documents/private/belajar/apache_spark/3.1.2/jars/spark-unsafe_2.12-3.1.2.jar) to constructor java.nio.DirectByteBuffer(long,int)\n",
      "WARNING: Please consider reporting this to the maintainers of org.apache.spark.unsafe.Platform\n",
      "WARNING: Use --illegal-access=warn to enable warnings of further illegal reflective access operations\n",
      "WARNING: All illegal access operations will be denied in a future release\n",
      "Ivy Default Cache set to: /Users/kotekaman/.ivy2/cache\n",
      "The jars for the packages stored in: /Users/kotekaman/.ivy2/jars\n",
      "io.delta#delta-core_2.12 added as a dependency\n",
      ":: resolving dependencies :: org.apache.spark#spark-submit-parent-26d387f1-2cec-4d91-9039-2f0d0536e771;1.0\n",
      "\tconfs: [default]\n"
     ]
    },
    {
     "name": "stdout",
     "output_type": "stream",
     "text": [
      ":: loading settings :: url = jar:file:/Users/kotekaman/Documents/private/belajar/apache_spark/3.1.2/jars/ivy-2.4.0.jar!/org/apache/ivy/core/settings/ivysettings.xml\n"
     ]
    },
    {
     "name": "stderr",
     "output_type": "stream",
     "text": [
      "\tfound io.delta#delta-core_2.12;1.0.0 in central\n",
      "\tfound org.antlr#antlr4;4.7 in central\n",
      "\tfound org.antlr#antlr4-runtime;4.7 in central\n",
      "\tfound org.antlr#antlr-runtime;3.5.2 in central\n",
      "\tfound org.antlr#ST4;4.0.8 in central\n",
      "\tfound org.abego.treelayout#org.abego.treelayout.core;1.0.3 in central\n",
      "\tfound org.glassfish#javax.json;1.0.4 in central\n",
      "\tfound com.ibm.icu#icu4j;58.2 in central\n",
      ":: resolution report :: resolve 178ms :: artifacts dl 8ms\n",
      "\t:: modules in use:\n",
      "\tcom.ibm.icu#icu4j;58.2 from central in [default]\n",
      "\tio.delta#delta-core_2.12;1.0.0 from central in [default]\n",
      "\torg.abego.treelayout#org.abego.treelayout.core;1.0.3 from central in [default]\n",
      "\torg.antlr#ST4;4.0.8 from central in [default]\n",
      "\torg.antlr#antlr-runtime;3.5.2 from central in [default]\n",
      "\torg.antlr#antlr4;4.7 from central in [default]\n",
      "\torg.antlr#antlr4-runtime;4.7 from central in [default]\n",
      "\torg.glassfish#javax.json;1.0.4 from central in [default]\n",
      "\t---------------------------------------------------------------------\n",
      "\t|                  |            modules            ||   artifacts   |\n",
      "\t|       conf       | number| search|dwnlded|evicted|| number|dwnlded|\n",
      "\t---------------------------------------------------------------------\n",
      "\t|      default     |   8   |   0   |   0   |   0   ||   8   |   0   |\n",
      "\t---------------------------------------------------------------------\n",
      ":: retrieving :: org.apache.spark#spark-submit-parent-26d387f1-2cec-4d91-9039-2f0d0536e771\n",
      "\tconfs: [default]\n",
      "\t0 artifacts copied, 8 already retrieved (0kB/11ms)\n",
      "21/10/26 06:13:24 WARN NativeCodeLoader: Unable to load native-hadoop library for your platform... using builtin-java classes where applicable\n",
      "Using Spark's default log4j profile: org/apache/spark/log4j-defaults.properties\n",
      "Setting default log level to \"WARN\".\n",
      "To adjust logging level use sc.setLogLevel(newLevel). For SparkR, use setLogLevel(newLevel).\n"
     ]
    }
   ],
   "source": [
    "\n",
    "# spark initialization\n",
    "builder = pyspark.sql.SparkSession.builder.appName(apps_name) \\\n",
    "    .config(\"spark.sql.extensions\", \"io.delta.sql.DeltaSparkSessionExtension\") \\\n",
    "    .config(\"spark.jars\",gcs_jars) \\\n",
    "    .config(\"spark.jars\",delta_contrib_jars) \\\n",
    "    .config(\"spark.delta.logStore.gs.impl\",\"io.delta.storage.GCSLogStore\")\n",
    "\n",
    "spark = spark = configure_spark_with_delta_pip(builder).getOrCreate()"
   ]
  },
  {
   "cell_type": "code",
   "execution_count": 6,
   "id": "05fcec1b",
   "metadata": {},
   "outputs": [],
   "source": [
    "data = spark.read.option(\"header\",True).option(\"quote\", \"\\\"\").option(\"escape\", \"\\\"\").option(\"multiLine\", True).csv(data_sources)\n",
    "json_datas = spark.read.json(json_data_sources)\n",
    "datas = None\n",
    "datas_json_for_data_lake = None"
   ]
  },
  {
   "cell_type": "code",
   "execution_count": 115,
   "id": "f93664c5",
   "metadata": {},
   "outputs": [
    {
     "name": "stderr",
     "output_type": "stream",
     "text": [
      "                                                                                \r"
     ]
    },
    {
     "name": "stdout",
     "output_type": "stream",
     "text": [
      "table already save in gcs\n"
     ]
    },
    {
     "name": "stderr",
     "output_type": "stream",
     "text": [
      "                                                                                \r"
     ]
    },
    {
     "name": "stdout",
     "output_type": "stream",
     "text": [
      "json id table already save in gcs\n"
     ]
    }
   ],
   "source": [
    "# load table into delta lake format\n",
    "try:\n",
    "    data.write.format(\"delta\").save(gcs_data_sources)\n",
    "    datas = spark.read.format(\"delta\").load(gcs_data_sources)\n",
    "except:\n",
    "    print(\"table already save in gcs\")\n",
    "    datas = spark.read.format(\"delta\").load(gcs_data_sources)\n",
    "\n",
    "try:\n",
    "    json_datas.write.format(\"delta\").save(gcs_data_sources_ids)\n",
    "    datas_json_for_data_lake = spark.read.format(\"delta\").load(gcs_data_sources_ids)\n",
    "except:\n",
    "    print(\"json id table already save in gcs\")\n",
    "    datas_json_for_data_lake = spark.read.format(\"delta\").load(gcs_data_sources_ids)\n"
   ]
  },
  {
   "cell_type": "code",
   "execution_count": 53,
   "id": "6a32d139",
   "metadata": {},
   "outputs": [
    {
     "name": "stdout",
     "output_type": "stream",
     "text": [
      "root\n",
      " |-- etag: string (nullable = true)\n",
      " |-- id: string (nullable = true)\n",
      " |-- kind: string (nullable = true)\n",
      " |-- snippet: struct (nullable = true)\n",
      " |    |-- assignable: boolean (nullable = true)\n",
      " |    |-- channelId: string (nullable = true)\n",
      " |    |-- title: string (nullable = true)\n",
      "\n",
      "root\n",
      " |-- video_id: string (nullable = true)\n",
      " |-- trending_date: string (nullable = true)\n",
      " |-- title: string (nullable = true)\n",
      " |-- channel_title: string (nullable = true)\n",
      " |-- category_id: string (nullable = true)\n",
      " |-- publish_time: string (nullable = true)\n",
      " |-- tags: string (nullable = true)\n",
      " |-- views: string (nullable = true)\n",
      " |-- likes: string (nullable = true)\n",
      " |-- dislikes: string (nullable = true)\n",
      " |-- comment_count: string (nullable = true)\n",
      " |-- thumbnail_link: string (nullable = true)\n",
      " |-- comments_disabled: string (nullable = true)\n",
      " |-- ratings_disabled: string (nullable = true)\n",
      " |-- video_error_or_removed: string (nullable = true)\n",
      " |-- description: string (nullable = true)\n",
      "\n"
     ]
    }
   ],
   "source": [
    "json_datas.printSchema()\n",
    "data.printSchema()"
   ]
  },
  {
   "cell_type": "code",
   "execution_count": 116,
   "id": "fc6753ae",
   "metadata": {},
   "outputs": [
    {
     "name": "stderr",
     "output_type": "stream",
     "text": [
      "                                                                                \r"
     ]
    },
    {
     "name": "stdout",
     "output_type": "stream",
     "text": [
      "+--------------------+--------+-------+----------------+-------------------+--------------------+\n",
      "|               title|category|  views|likes_percentage|dislikes_percentage|not_voted_percentage|\n",
      "+--------------------+--------+-------+----------------+-------------------+--------------------+\n",
      "|Bruno Mars - Fine...|   Music| 548621|           29.05|               0.43|               70.52|\n",
      "|Luis Fonsi, Demi ...|   Music| 499946|           27.06|               0.71|               72.23|\n",
      "|j-hope 'Airplane' MV|   Music|5275672|           26.57|               0.12|               73.31|\n",
      "|dodie - Secret Fo...|   Music| 129130|           25.37|               0.08|               74.55|\n",
      "|Louis Tomlinson -...|   Music| 985998|           24.51|               0.08|               75.41|\n",
      "+--------------------+--------+-------+----------------+-------------------+--------------------+\n",
      "\n"
     ]
    },
    {
     "name": "stderr",
     "output_type": "stream",
     "text": [
      "                                                                                \r"
     ]
    },
    {
     "name": "stdout",
     "output_type": "stream",
     "text": [
      "+--------------------+--------------------+----------------+-------------------+--------------------+---------+\n",
      "|               title|            category|likes_percentage|dislikes_percentage|not_voted_percentage|    views|\n",
      "+--------------------+--------------------+----------------+-------------------+--------------------+---------+\n",
      "|     To Our Daughter|      People & Blogs|             0.0|                0.0|               100.0|461064419|\n",
      "|T-Mobile | #Littl...|       Entertainment|             0.0|                0.0|               100.0|115590182|\n",
      "|Coachella 2018 LI...|               Music|             0.0|                0.0|               100.0| 38740070|\n",
      "|The New Snapchat ...|               Music|             0.0|                0.0|               100.0| 21791461|\n",
      "|KKW BEAUTY: Conce...|      People & Blogs|             0.0|                0.0|               100.0| 11962752|\n",
      "|GET READY WITH ME...|       Howto & Style|             0.0|                0.0|               100.0|  9835545|\n",
      "|The ocean current...|Science & Technology|             0.0|                0.0|               100.0|  8364659|\n",
      "|Mariah Carey - Li...|               Music|             0.0|                0.0|               100.0|  6884474|\n",
      "|PART 1 | Gwen Ste...|    Autos & Vehicles|             0.0|                0.0|               100.0|  4431750|\n",
      "|Camila Cabello Pe...|       Entertainment|             0.0|                0.0|               100.0|  4029082|\n",
      "|I Like Beer (:60)...|              Sports|             0.0|                0.0|               100.0|  2868544|\n",
      "|Slooh's Blue Supe...|Science & Technology|             0.0|                0.0|               100.0|  1869637|\n",
      "|ULTRA LIVE presen...|               Music|             0.0|                0.0|               100.0|  1648886|\n",
      "|Why Are Fat Peopl...|       Entertainment|             0.0|                0.0|               100.0|  1612267|\n",
      "|Paris Hilton - “I...|               Music|             0.0|                0.0|               100.0|  1558854|\n",
      "|Did Beyonce Have ...|       Entertainment|             0.0|                0.0|               100.0|   931829|\n",
      "|Highlights of the...|      People & Blogs|             0.0|                0.0|               100.0|   917728|\n",
      "|Vince McMahon's M...|              Sports|             0.0|                0.0|               100.0|   755533|\n",
      "|Camera Goes on Ja...|      People & Blogs|             0.0|                0.0|               100.0|   639517|\n",
      "|DJI Live - Advent...|    Film & Animation|             0.0|                0.0|               100.0|   347586|\n",
      "+--------------------+--------------------+----------------+-------------------+--------------------+---------+\n",
      "only showing top 20 rows\n",
      "\n"
     ]
    },
    {
     "name": "stderr",
     "output_type": "stream",
     "text": [
      "                                                                                \r"
     ]
    },
    {
     "name": "stdout",
     "output_type": "stream",
     "text": [
      "+--------------------+---------------+-------+----------------+-------------------+--------------------+\n",
      "|               title|       category|  views|likes_percentage|dislikes_percentage|not_voted_percentage|\n",
      "+--------------------+---------------+-------+----------------+-------------------+--------------------+\n",
      "|PSA from Chairman...| People & Blogs|1142585|             0.8|              19.15|               80.05|\n",
      "|PSA from Chairman...| People & Blogs|1179072|            0.79|              19.01|                80.2|\n",
      "|PSA from Chairman...| People & Blogs|1205682|            0.79|              18.95|               80.26|\n",
      "|#ProudToCreate: P...|  Entertainment| 597669|            4.98|              11.98|               83.04|\n",
      "|The FCC repeals i...|News & Politics| 985179|            0.49|              11.24|               88.27|\n",
      "|The FCC repeals i...|News & Politics|1192501|            0.48|              10.62|                88.9|\n",
      "|The FCC repeals i...|News & Politics|1242998|            0.47|              10.53|                89.0|\n",
      "|The FCC repeals i...|News & Politics|1263104|            0.47|              10.49|               89.04|\n",
      "|#ProudToCreate: P...|  Entertainment|1074997|            4.01|              10.33|               85.66|\n",
      "|#ProudToCreate: P...|  Entertainment|1227495|            3.79|               9.93|               86.28|\n",
      "|#ProudToCreate: P...|  Entertainment|1253843|            3.75|               9.84|               86.41|\n",
      "|#ProudToCreate: P...|  Entertainment|1291035|             3.7|               9.73|               86.57|\n",
      "|#ProudToCreate: P...|  Entertainment|1315418|            3.66|               9.62|               86.72|\n",
      "|#ProudToCreate: P...|  Entertainment|1329391|            3.64|               9.55|               86.81|\n",
      "|Judge Roy Moore C...| People & Blogs|  51139|            0.86|               9.18|               89.96|\n",
      "|Judge Roy Moore C...| People & Blogs| 603783|            0.55|               7.75|                91.7|\n",
      "|Judge Roy Moore C...| People & Blogs| 708489|            0.56|               7.63|               91.81|\n",
      "|Judge Roy Moore C...| People & Blogs| 753386|            0.55|                7.6|               91.85|\n",
      "|Judge Roy Moore C...| People & Blogs| 773357|            0.55|               7.54|               91.91|\n",
      "|Judge Roy Moore C...| People & Blogs| 781487|            0.55|               7.51|               91.94|\n",
      "+--------------------+---------------+-------+----------------+-------------------+--------------------+\n",
      "only showing top 20 rows\n",
      "\n"
     ]
    },
    {
     "name": "stderr",
     "output_type": "stream",
     "text": [
      "[Stage 279:=================================================>       (7 + 1) / 8]\r"
     ]
    },
    {
     "name": "stdout",
     "output_type": "stream",
     "text": [
      "+-------------------------+--------------+-------+----------------+-------------------+--------------------+\n",
      "|                    title|      category|  views|likes_percentage|dislikes_percentage|not_voted_percentage|\n",
      "+-------------------------+--------------+-------+----------------+-------------------+--------------------+\n",
      "|     Bruno Mars - Fine...|         Music| 548621|           29.05|               0.43|               70.52|\n",
      "|     Luis Fonsi, Demi ...|         Music| 499946|           27.06|               0.71|               72.23|\n",
      "|     j-hope 'Airplane' MV|         Music|5275672|           26.57|               0.12|               73.31|\n",
      "|     dodie - Secret Fo...|         Music| 129130|           25.37|               0.08|               74.55|\n",
      "|     Louis Tomlinson -...|         Music| 985998|           24.51|               0.08|               75.41|\n",
      "|BTS (방탄소년단) 'FAKE...|         Music|5884233|           24.44|               0.11|               75.45|\n",
      "|     5 Seconds Of Summ...|         Music| 439056|           24.26|               0.15|               75.59|\n",
      "|     Shawn Mendes: The...|         Music| 332910|           24.07|               0.07|               75.86|\n",
      "|     Shawn Mendes: The...|         Music| 355703|           23.06|               0.07|               76.87|\n",
      "|     Harry Styles - Ki...|         Music| 595598|           22.85|               0.06|               77.09|\n",
      "|     Idol EXPOSES Dark...|People & Blogs|  35704|           22.82|               0.12|               77.06|\n",
      "|     j-hope 'Airplane' MV|         Music|6870836|            22.8|               0.12|               77.08|\n",
      "|     Shawn Mendes: The...|         Music| 363554|            22.8|               0.07|               77.13|\n",
      "|BTS (방탄소년단) 'MIC ...|         Music|3483755|           22.67|               0.08|               77.25|\n",
      "|     Shawn Mendes: The...|         Music| 371398|           22.53|               0.07|                77.4|\n",
      "|     In Loving Memory of,|People & Blogs|  45886|           22.51|               0.08|               77.41|\n",
      "|     BTS Takes on L.A....|         Music| 573677|            22.5|               0.08|               77.42|\n",
      "|     CRISTIANO RONALDO...|        Sports|3990953|           22.28|               0.07|               77.65|\n",
      "|     Shawn Mendes: The...|         Music| 380392|           22.22|               0.07|               77.71|\n",
      "|     Shawn Mendes: The...|         Music| 383304|           22.12|               0.07|               77.81|\n",
      "+-------------------------+--------------+-------+----------------+-------------------+--------------------+\n",
      "only showing top 20 rows\n",
      "\n"
     ]
    },
    {
     "name": "stderr",
     "output_type": "stream",
     "text": [
      "\r",
      "                                                                                \r"
     ]
    }
   ],
   "source": [
    "# ET Process\n",
    "videos_selected_field = datas.select(\"title\",\"category_id\",\"views\",\"likes\",\"dislikes\")\n",
    "id_selected_field = datas_json_for_data_lake.select(\"id\",\"snippet.*\") \\\n",
    "    .withColumnRenamed(\"title\",\"category\")\n",
    "\n",
    "get_percentage = videos_selected_field \\\n",
    "    .join(id_selected_field,videos_selected_field.category_id ==  id_selected_field.id,\"inner\") \\\n",
    "    .select(\"title\",\"category\",\"views\",\"likes\",\"dislikes\") \\\n",
    "    .withColumn(\"likes\",(col(\"likes\")/col(\"views\")*lit(100))).withColumnRenamed(\"likes\",\"likes_percentage\") \\\n",
    "    .withColumn(\"likes_percentage\",round(col('likes_percentage'),2)) \\\n",
    "    .withColumn(\"dislikes\",(col(\"dislikes\")/col(\"views\")*lit(100))).withColumnRenamed(\"dislikes\",\"dislikes_percentage\") \\\n",
    "    .withColumn(\"dislikes_percentage\",round(col('dislikes_percentage'),2)) \\\n",
    "    .withColumn(\"not_voted_percentage\",lit(100)-(col(\"likes_percentage\")+col(\"dislikes_percentage\"))) \\\n",
    "    .withColumn(\"not_voted_percentage\",round(col('not_voted_percentage'),2)) \\\n",
    "    .withColumn(\"views\",col(\"views\").cast(IntegerType()))\n",
    "\n",
    "\n",
    "most_not_voted_film = get_percentage.distinct() \\\n",
    "    .groupBy(\"title\",\"category\",\"likes_percentage\",\"dislikes_percentage\",\"not_voted_percentage\") \\\n",
    "    .sum('views') \\\n",
    "    .withColumnRenamed(\"sum(views)\",\"views\") \\\n",
    "    .sort(col(\"not_voted_percentage\").desc(),col(\"views\").desc())\n",
    "\n",
    "most_not_voted_film.show()\n",
    "\n",
    "most_dislikes_film = get_percentage.distinct() \\\n",
    "    .sort(col(\"dislikes_percentage\").desc())\n",
    "\n",
    "most_dislikes_film.show()\n",
    "\n",
    "most_likes_film = get_percentage.distinct() \\\n",
    "    .sort(col(\"likes_percentage\").desc(),col(\"views\").desc())\n",
    "\n",
    "most_likes_film.show()\n"
   ]
  },
  {
   "cell_type": "code",
   "execution_count": 119,
   "id": "e79f5d04",
   "metadata": {},
   "outputs": [
    {
     "name": "stderr",
     "output_type": "stream",
     "text": [
      "                                                                                \r"
     ]
    }
   ],
   "source": [
    "# write data into GCS\n",
    "most_not_voted_film.limit(5).write.mode(\"overwrite\").format(\"delta\").save(gcs_data_destination+\"/five_most_not_voted_film\")\n",
    "most_dislikes_film.limit(5).write.mode(\"overwrite\").format(\"delta\").save(gcs_data_destination+\"/five_most_dislikes_film\")\n",
    "most_likes_film.limit(5).write.mode(\"overwrite\").format(\"delta\").save(gcs_data_destination+\"/five_most_likes_film\")"
   ]
  },
  {
   "cell_type": "code",
   "execution_count": null,
   "id": "87845f53",
   "metadata": {},
   "outputs": [],
   "source": []
  }
 ],
 "metadata": {
  "kernelspec": {
   "display_name": "Python 3 (ipykernel)",
   "language": "python",
   "name": "python3"
  },
  "language_info": {
   "codemirror_mode": {
    "name": "ipython",
    "version": 3
   },
   "file_extension": ".py",
   "mimetype": "text/x-python",
   "name": "python",
   "nbconvert_exporter": "python",
   "pygments_lexer": "ipython3",
   "version": "3.8.2"
  }
 },
 "nbformat": 4,
 "nbformat_minor": 5
}
